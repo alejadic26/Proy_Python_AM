{
 "cells": [
  {
   "cell_type": "code",
   "execution_count": null,
   "metadata": {},
   "outputs": [],
   "source": [
    "import pandas as pd\n",
    "import matplotlib.pyplot as plt\n",
    "\n",
    "#Cargas datos limpiados\n",
    "#ruta_archivo=\"..\\..\\data\\process\\datos_limpios.csv\"\n",
    "ruta_archivo=\"../data/process/datos_limpios.csv\"\n",
    "#se carga os datos en dataframe\n",
    "df=pd.read_csv(ruta_archivo)\n",
    "\n",
    "#Analisis y visualización\n",
    "print(\"Resumen estadísticos de los datos extraidos de Atocosmos\")\n",
    "print(df.describe())\n",
    "\n",
    "#Histigrama de precios\n",
    "plt.hist(df[\"Precio\"],bins=40, edgecolor=\"black\")\n",
    "plt.title(\"Distribución de precios por Años\")\n",
    "plt.xlabel(\"Precio\")\n",
    "plt.ylabel(\"Frecuencia\")\n",
    "plt.show()\n",
    "\n",
    "#vEHÍCULOS Má costosos\n",
    "print(\"Vehiculos ms caros\")\n",
    "precios_bajos=df.nsmallest(5,\"Precio\")\n",
    "print(precios_bajos)\n",
    "\n",
    "g.plot(kind='barh', legend='Reverse')\n",
    "plt.title(u'ANALISIS DE SUBDETERMINANTES', size = 12.0)\n",
    "plt.xlabel(u'Suma', size = 12.0)\n",
    "plt.ylabel('SubDeterminantes', size = 12.0)\n",
    "fig_size = plt.rcParams[\"figure.figsize\"]\n",
    "print (\"Current size:\", fig_size)\n",
    "fig_size[0] = 10.0\n",
    "fig_size[1] = 15.0\n",
    "plt.savefig('detalle')\n"
   ]
  }
 ],
 "metadata": {
  "kernelspec": {
   "display_name": "Python 3",
   "language": "python",
   "name": "python3"
  },
  "language_info": {
   "codemirror_mode": {
    "name": "ipython",
    "version": 3
   },
   "file_extension": ".py",
   "mimetype": "text/x-python",
   "name": "python",
   "nbconvert_exporter": "python",
   "pygments_lexer": "ipython3",
   "version": "3.12.4"
  }
 },
 "nbformat": 4,
 "nbformat_minor": 2
}
